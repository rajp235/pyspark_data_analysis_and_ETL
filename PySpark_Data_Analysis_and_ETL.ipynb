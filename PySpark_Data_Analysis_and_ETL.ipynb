{
  "nbformat": 4,
  "nbformat_minor": 0,
  "metadata": {
    "colab": {
      "provenance": []
    },
    "kernelspec": {
      "name": "python3",
      "display_name": "Python 3"
    },
    "language_info": {
      "name": "python"
    }
  },
  "cells": [
    {
      "cell_type": "code",
      "source": [
        "# prelim setup - mount drive\n",
        "from google.colab import drive\n",
        "drive.mount(\"/content/drive\")"
      ],
      "metadata": {
        "id": "pqfZsCABcAP5"
      },
      "execution_count": null,
      "outputs": []
    },
    {
      "cell_type": "code",
      "source": [
        "# install pyspark\n",
        "!pip install pyspark"
      ],
      "metadata": {
        "collapsed": true,
        "id": "irHHrSSgbJAs"
      },
      "execution_count": null,
      "outputs": []
    },
    {
      "cell_type": "code",
      "source": [
        "# import statements\n",
        "import pyspark\n",
        "from pyspark.sql import SparkSession\n",
        "from pyspark.sql.functions import col, when\n",
        "import matplotlib.pyplot as plt\n",
        "\n",
        "# starting spark session\n",
        "spark = SparkSession.builder \\\n",
        "    .appName(\"Dataset Analysis\") \\\n",
        "    .getOrCreate()"
      ],
      "metadata": {
        "id": "a134RdDnZCgs"
      },
      "execution_count": 3,
      "outputs": []
    },
    {
      "cell_type": "code",
      "source": [
        "# load data + transform into PySpark DataFrame\n",
        "dataset_path = \"data/coffee_dataset.csv\"\n",
        "df = spark.read.csv(dataset_path, header=True, inferSchema=True)"
      ],
      "metadata": {
        "id": "4plUidLtZCq5"
      },
      "execution_count": 4,
      "outputs": []
    },
    {
      "cell_type": "markdown",
      "source": [
        "# EXPLORATORY DATA ANALYSIS (EDA)"
      ],
      "metadata": {
        "id": "IV0JOpgdzdDQ"
      }
    },
    {
      "cell_type": "code",
      "source": [
        "# exploratory data analysis - getting to know schema, format, type of data, missing values, etc.\n",
        "df.printSchema()\n",
        "df.head(10)\n",
        "df.tail(10)"
      ],
      "metadata": {
        "id": "ft7ZKS0mZ7pa"
      },
      "execution_count": null,
      "outputs": []
    },
    {
      "cell_type": "markdown",
      "source": [
        "Explorating dataset by plotting distribution of ages ranges that voted. Firstly, cleaning the data and then ensuring that there are proper values as the string value in the column."
      ],
      "metadata": {
        "id": "zM1g1lIxr704"
      }
    },
    {
      "cell_type": "code",
      "source": [
        "# clean data\n",
        "cleaned_df = df.na.drop(subset=[\"age\"])\n",
        "cleaned_df = cleaned_df.filter(cleaned_df[\"age\"] != \"NA\")\n",
        "cleaned_df = cleaned_df.filter(cleaned_df[\"age\"].contains(\"years old\"))\n",
        "\n",
        "# grouping and seeing count of each age group\n",
        "age_group_count = cleaned_df.groupBy(\"age\").count()\n",
        "age_group_count = age_group_count.orderBy(age_group_count[\"count\"].desc())\n",
        "age_group_count.show()\n",
        "\n",
        "# producing histogram to show distribution of age groups\n",
        "age_group_df = age_group_count.toPandas()\n",
        "plt.figure()\n",
        "plt.bar(age_group_df[\"age\"], age_group_df[\"count\"])\n",
        "plt.xlabel(\"Age group\")\n",
        "plt.ylabel(\"Count\")\n",
        "plt.title(\"Histogram of Count per Age Group\")\n",
        "plt.xticks(rotation=45)\n",
        "plt.show()"
      ],
      "metadata": {
        "id": "o_F5RIbOsGn_"
      },
      "execution_count": null,
      "outputs": []
    },
    {
      "cell_type": "markdown",
      "source": [
        "Results show the voting distrubtion by age is skewed to the left (if considering numerical range, not strings) because the two highest groups that voted the most include 25-34 years old and 35-44 years old."
      ],
      "metadata": {
        "id": "DbqaDlzgtegQ"
      }
    },
    {
      "cell_type": "markdown",
      "source": [
        "It is possible to get an overall idea of the general distribution / image of the dataset. For example, seeing the histogram distribution of votes for 'favorite' column."
      ],
      "metadata": {
        "id": "LtCInF-Jm4VA"
      }
    },
    {
      "cell_type": "code",
      "source": [
        "# clean data\n",
        "cleaned_df = df.na.drop(subset=[\"favorite\"])\n",
        "cleaned_df = cleaned_df.filter(cleaned_df[\"favorite\"] != \"NA\")\n",
        "\n",
        "# grouping and seeing count of favorite\n",
        "favorite_count = cleaned_df.groupBy(\"favorite\").count()\n",
        "favorite_count = favorite_count.orderBy(favorite_count[\"count\"].desc())\n",
        "favorite_count.show()\n",
        "\n",
        "# producing histogram to show distribution of favorite types of coffee\n",
        "favorite_count_df = favorite_count.toPandas()\n",
        "plt.figure()\n",
        "plt.bar(favorite_count_df[\"favorite\"], favorite_count_df[\"count\"])\n",
        "plt.xlabel(\"Favorite coffee type\")\n",
        "plt.ylabel(\"Count\")\n",
        "plt.title(\"Histogram of Count per Coffee Type\")\n",
        "plt.xticks(rotation=45)\n",
        "plt.show()"
      ],
      "metadata": {
        "id": "mWWIPlOzmhxo"
      },
      "execution_count": null,
      "outputs": []
    },
    {
      "cell_type": "markdown",
      "source": [
        "Analysis shows that Pourover is by far the most voted for coffee favorite."
      ],
      "metadata": {
        "id": "mklcnb5qrGka"
      }
    },
    {
      "cell_type": "markdown",
      "source": [
        "# SPECIFIC ANALYSIS"
      ],
      "metadata": {
        "id": "JmUAMCIdmUSp"
      }
    },
    {
      "cell_type": "markdown",
      "source": [
        "Exploring relationship between age group and brew form preference\n"
      ],
      "metadata": {
        "id": "eu_9H3i7zntR"
      }
    },
    {
      "cell_type": "code",
      "source": [
        "# filtering out NULL or NA values from age column\n",
        "filtered_age = df.filter(df[\"age\"].isNotNull())\n",
        "filtered_age = filtered_age.filter(filtered_age[\"age\"] != \"NA\")\n",
        "filtered_age.show(10)\n",
        "\n",
        "# filtering out NULL or NA values from brew column\n",
        "filtered_age_brew = filtered_age.filter(filtered_age[\"brew\"].isNotNull())\n",
        "filtered_age_brew = filtered_age_brew.filter(filtered_age_brew[\"brew\"] != \"NA\")\n",
        "filtered_age_brew.show(10)\n",
        "\n",
        "# cleaned dataset\n",
        "filtered_df = filtered_age_brew"
      ],
      "metadata": {
        "id": "DWZTLZwKhpC7"
      },
      "execution_count": null,
      "outputs": []
    },
    {
      "cell_type": "code",
      "source": [
        "# group by method to show general variation of ages - also acts as sanity check to ensure no invalid values got through\n",
        "grouped_age = filtered_df.groupBy(\"age\").count()\n",
        "grouped_age.show(10)\n",
        "\n",
        "# since invalid string values were displayed, need to filtered further by values that contain \"years old\"\n",
        "filtered_df = filtered_df.filter(filtered_df[\"age\"].contains(\"years old\"))\n",
        "grouped_age = filtered_df.groupBy(\"age\").count()\n",
        "grouped_age.show()"
      ],
      "metadata": {
        "id": "3sUzmXV_Z7t5"
      },
      "execution_count": null,
      "outputs": []
    },
    {
      "cell_type": "markdown",
      "source": [
        "INSIGHT: displayed results show that greatest amount of surveyed are in the 25-34 year old pool"
      ],
      "metadata": {
        "id": "i8OJ4lDIzUc1"
      }
    },
    {
      "cell_type": "code",
      "source": [
        "# create a SQL table to perform SQL statements utilizing spark.sql queries\n",
        "filtered_df.createOrReplaceTempView(\"coffee_table\")\n",
        "\n",
        "# Writing a SQL query to give each age group as well as the distribution of brew method\n",
        "sql_query = \"\"\"\n",
        "SELECT age, brew, COUNT(*) AS count\n",
        "FROM coffee_table\n",
        "GROUP BY age, brew\n",
        "ORDER BY age, count DESC\n",
        "\"\"\"\n",
        "\n",
        "# executing the SQL query utilizing spark.sql\n",
        "sql_df_result = spark.sql(sql_query)\n",
        "\n",
        "# first row of each age type showing the highest count so dropping duplicates\n",
        "sql_df_result = sql_df_result.dropDuplicates([\"age\"])\n",
        "\n",
        "# displaying result\n",
        "sql_df_result.show()"
      ],
      "metadata": {
        "id": "9YmSVtOBmIYL"
      },
      "execution_count": null,
      "outputs": []
    },
    {
      "cell_type": "markdown",
      "source": [
        "Results show that ages from less than or equal to 54 years old have the highest count for 'Pour over' brew type"
      ],
      "metadata": {
        "id": "W6W9RfAj3Ajp"
      }
    },
    {
      "cell_type": "code",
      "source": [
        "# plotting to show which age group has most popular vote for \"Pour over\" excluding Ages 55-64 / > 65 years for which it was not most popular\n",
        "sql_df_result = sql_df_result.filter(sql_df_result[\"age\"] != \">65 years old\")\n",
        "sql_df_result = sql_df_result.filter(sql_df_result[\"age\"] != \"55-64 years old\")\n",
        "pd_df = sql_df_result.toPandas()\n",
        "plt.figure()\n",
        "plt.title(\"Counts of 'Pour over' most popular type by Age Group\")\n",
        "plt.xlabel(\"Age\")\n",
        "plt.ylabel(\"Count of 'Pour over' votes\")\n",
        "plt.bar(pd_df[\"age\"], pd_df[\"count\"], color=\"red\")\n",
        "plt.xticks(rotation=45)\n",
        "plt.show()"
      ],
      "metadata": {
        "id": "2aQYzSbT2-06"
      },
      "execution_count": null,
      "outputs": []
    },
    {
      "cell_type": "markdown",
      "source": [
        "The plot shows that 25-34 years old group had the greatest amount of counts for 'Pour Over'. Further investigation is needed as to whether it might be due to that group having the highest amount of votes in the survey, or if they disproportionately vote for the 'Pour Over' method."
      ],
      "metadata": {
        "id": "RHavfnahzHEl"
      }
    },
    {
      "cell_type": "markdown",
      "source": [
        "Exploring Relationship between Age Group and Roast Level"
      ],
      "metadata": {
        "id": "q2RydgnYz4aK"
      }
    },
    {
      "cell_type": "code",
      "source": [
        "# filtering out NULL or NA values from age column\n",
        "filtered_age = df.filter(df[\"age\"].isNotNull())\n",
        "filtered_age = filtered_age.filter(filtered_age[\"age\"] != \"NA\")\n",
        "\n",
        "# filtering out NULL or NA values from roast_level column\n",
        "filtered_age_rl = filtered_age.filter(filtered_age[\"roast_level\"].isNotNull())\n",
        "filtered_age_rl = filtered_age_rl.filter(filtered_age_rl[\"roast_level\"] != \"NA\")\n",
        "filtered_age_rl.show(10)\n",
        "\n",
        "# cleaned dataset\n",
        "filtered_df = filtered_age_rl"
      ],
      "metadata": {
        "id": "czWa5u6-Z7yj"
      },
      "execution_count": null,
      "outputs": []
    },
    {
      "cell_type": "code",
      "source": [
        "# need to filtered age strings further by values that contain \"years old\"\n",
        "filtered_df = filtered_df.filter(filtered_df[\"age\"].contains(\"years old\"))\n",
        "grouped_age = filtered_df.groupBy(\"age\").count()\n",
        "grouped_age.show()\n",
        "\n",
        "# group by method to show general variation of roast level - now sorting by count desc\n",
        "grouped_rl = filtered_df.groupBy(\"roast_level\").count().orderBy(col(\"count\").desc())\n",
        "grouped_rl.show()"
      ],
      "metadata": {
        "id": "PZbf7PLf1gu_"
      },
      "execution_count": null,
      "outputs": []
    },
    {
      "cell_type": "markdown",
      "source": [
        "Did not see any unexpected string output for the roast level even when sorting by desc and asc\n"
      ],
      "metadata": {
        "id": "zxxpc9iJ14Ku"
      }
    },
    {
      "cell_type": "code",
      "source": [
        "# create a SQL table to perform SQL statements utilizing spark.sql queries\n",
        "filtered_df.createOrReplaceTempView(\"coffee_table\")\n",
        "\n",
        "# Writing a SQL query to give each age group as well as the distribution of roast_level method\n",
        "sql_query = \"\"\"\n",
        "SELECT age, roast_level, COUNT(*) AS count\n",
        "FROM coffee_table\n",
        "GROUP BY age, roast_level\n",
        "ORDER BY age, count DESC\n",
        "\"\"\"\n",
        "\n",
        "# executing the SQL query utilizing spark.sql\n",
        "sql_df_result = spark.sql(sql_query)\n",
        "\n",
        "# first row of each age type showing the highest count so dropping duplicates\n",
        "sql_df_result = sql_df_result.dropDuplicates([\"age\"])\n",
        "\n",
        "# displaying result\n",
        "sql_df_result.show()"
      ],
      "metadata": {
        "id": "AyIDGIEj1g4X"
      },
      "execution_count": null,
      "outputs": []
    },
    {
      "cell_type": "markdown",
      "source": [
        "The most popular roast levels across all age groups were between Light and Medium. Ages less than or equal to 44 had Light roast level as the highest voted and ages between 45 and over preferred Medium roast level."
      ],
      "metadata": {
        "id": "tflTAgLd3Sv0"
      }
    },
    {
      "cell_type": "code",
      "source": [
        "# plotting to show age range count across groups that voted Light roast as most preferred the most\n",
        "sql_df_result_light = sql_df_result.filter(sql_df_result[\"age\"] != \">65 years old\")\n",
        "sql_df_result_light = sql_df_result_light.filter(sql_df_result_light[\"age\"] != \"55-64 years old\")\n",
        "sql_df_result_light = sql_df_result_light.filter(sql_df_result_light[\"age\"] != \"45-54 years old\")\n",
        "pd_df = sql_df_result_light.toPandas()\n",
        "plt.figure()\n",
        "plt.title(\"Counts of 'Light Roast' most popular type by Age Group\")\n",
        "plt.xlabel(\"Age\")\n",
        "plt.ylabel(\"Count of 'Light Roast' votes\")\n",
        "plt.bar(pd_df[\"age\"], pd_df[\"count\"], color=\"green\")\n",
        "plt.xticks(rotation=45)\n",
        "plt.show()"
      ],
      "metadata": {
        "id": "PpWpf66t3M-7"
      },
      "execution_count": null,
      "outputs": []
    },
    {
      "cell_type": "markdown",
      "source": [
        "Again, the 25-34 year old age group range dominated. Again, it is not certain as to whether this group prefers light roast more so than other groups or if it is due to their increased number of votes given in general (more participation)."
      ],
      "metadata": {
        "id": "1OilBgQN4POk"
      }
    },
    {
      "cell_type": "code",
      "source": [
        "# plotting to show age range count across groups that voted Medium roast as most preferred the most\n",
        "sql_df_result_medium = sql_df_result.filter(sql_df_result[\"age\"] != \"18-24 years old\")\n",
        "sql_df_result_medium = sql_df_result_medium.filter(sql_df_result_medium[\"age\"] != \"25-34 years old\")\n",
        "sql_df_result_medium = sql_df_result_medium.filter(sql_df_result_medium[\"age\"] != \"35-44 years old\")\n",
        "sql_df_result_medium = sql_df_result_medium.filter(sql_df_result_medium[\"age\"] != \"<18 years old\")\n",
        "pd_df = sql_df_result_medium.toPandas()\n",
        "plt.figure()\n",
        "plt.title(\"Counts of 'Medium Roast' most popular type by Age Group\")\n",
        "plt.xlabel(\"Age\")\n",
        "plt.ylabel(\"Count of 'Medium Roast' votes\")\n",
        "plt.bar(pd_df[\"age\"], pd_df[\"count\"], color=\"brown\")\n",
        "plt.xticks(rotation=45)\n",
        "plt.show()"
      ],
      "metadata": {
        "id": "ScqZaWbJ4iXt"
      },
      "execution_count": null,
      "outputs": []
    },
    {
      "cell_type": "markdown",
      "source": [
        "The 45-54 year old group range had the most votes for Medium roast out of the groups that voted the most for Medium roast. This group was the third highest group by count that voted so that may also have an impact on these results (skewed potentially)."
      ],
      "metadata": {
        "id": "-vU31fQP45wg"
      }
    },
    {
      "cell_type": "markdown",
      "source": [
        "Exploring if there is a correlation between age and the perceived level of expertise. In this section, the string ages ranges will be transformed into the median of the range group to get a numerical value for an age. The exact mapping is not particularly rule based, it is just to explore and see if a potential relationship may exist and then further going towards that if so. Since less than 18 and greater than 65 are outliers, they will be excluded."
      ],
      "metadata": {
        "id": "DnmdWZKtuKWm"
      }
    },
    {
      "cell_type": "code",
      "source": [
        "# clean data (age)\n",
        "cleaned_df = df.na.drop(subset=[\"age\"])\n",
        "cleaned_df = cleaned_df.filter(cleaned_df[\"age\"] != \"NA\")\n",
        "cleaned_df = cleaned_df.filter(cleaned_df[\"age\"].contains(\"years old\"))\n",
        "cleaned_df = cleaned_df.filter(cleaned_df[\"age\"] != \">65 years old\")\n",
        "cleaned_df = cleaned_df.filter(cleaned_df[\"age\"] != \"<18 years old\")\n",
        "\n",
        "# clean data (expertise)\n",
        "cleaned_df = cleaned_df.na.drop(subset=[\"expertise\"])\n",
        "cleaned_df = cleaned_df.filter(cleaned_df[\"expertise\"] != \"NA\")\n",
        "cleaned_df = cleaned_df.filter(col(\"expertise\").cast(\"double\").between(0, 10))\n",
        "\n",
        "# transforming data\n",
        "str_to_num = {\n",
        "    \"18-24 years old\": 21,\n",
        "    \"25-34 years old\": 29.5,\n",
        "    \"35-44 years old\": 39.5,\n",
        "    \"45-54 years old\": 49.5,\n",
        "    \"55-64 years old\": 59.5\n",
        "}\n",
        "\n",
        "# apply mapping using when() function\n",
        "for old_value, new_value in str_to_num.items():\n",
        "    cleaned_df = cleaned_df.withColumn(\"age\", when(col(\"age\") == old_value, new_value).otherwise(col(\"age\")))\n",
        "\n",
        "final_df = cleaned_df.select(\"age\", \"expertise\")\n",
        "final_df.show()\n",
        "\n",
        "for col_name in [\"age\", \"expertise\"]:\n",
        "    final_df = final_df.withColumn(col_name, col(col_name).cast(\"double\"))\n",
        "\n",
        "final_df_pandas = final_df.toPandas()\n",
        "\n",
        "# scatter plot\n",
        "plt.figure()\n",
        "plt.scatter(final_df_pandas[\"age\"], final_df_pandas[\"expertise\"])\n",
        "plt.xlabel(\"Age\")\n",
        "plt.ylabel(\"Expertise\")\n",
        "plt.title(\"Age vs Expertise\")\n",
        "plt.show()\n",
        "\n",
        "# calculate correlation coefficient\n",
        "correlation_coefficient = final_df.stat.corr(\"age\", \"expertise\")\n",
        "print(correlation_coefficient)"
      ],
      "metadata": {
        "id": "-6kHggmLuaYw"
      },
      "execution_count": null,
      "outputs": []
    },
    {
      "cell_type": "markdown",
      "source": [
        "Correlation coefficient was very low, showing that there is likely not a strong correlation between age group and expertise noted. Further investigation may be required to explore this relationship more."
      ],
      "metadata": {
        "id": "a3sgEdTRzN0-"
      }
    },
    {
      "cell_type": "markdown",
      "source": [
        "# ETL with PySpark to form recommendation"
      ],
      "metadata": {
        "id": "K3qpeKedArEf"
      }
    },
    {
      "cell_type": "markdown",
      "source": [
        "There is also another dataset that contains the names of the best Coffee shop locations for many types of coffee (expresso, cappuccino, etc.) and it also contains it for the roast levels. It would then be possible to utilize and ETL process to extract data from this dataset, transform it along with the prior coffee voting dataset, in order to produce a new dataset that contains age groups, their preferred coffee, and the recommended coffee shop and then load it into a new dataset file, essentionally make a sort of recommendation of which coffee shop to visit based on preferrences."
      ],
      "metadata": {
        "id": "T8vNZZlHAwt0"
      }
    },
    {
      "cell_type": "code",
      "source": [
        "# extract coffee shop dataset\n",
        "coffee_shop_dataset_path = \"data/coffee_shops.csv\"\n",
        "df_shops = spark.read.csv(coffee_shop_dataset_path, header=True, inferSchema=True)\n",
        "df_shops.show()"
      ],
      "metadata": {
        "id": "2rGmvmDsApWG"
      },
      "execution_count": null,
      "outputs": []
    },
    {
      "cell_type": "code",
      "source": [
        "# transform dataset in order to produce new dataset for coffee shop recommendations based on roast preferences\n",
        "df_shops = df_shops.withColumnRenamed(\"Known for\", \"roast_level\")\n",
        "df_shops = df_shops.withColumnRenamed(\"Name of shop\", \"recommended_shop\")\n",
        "\n",
        "transformed_df = sql_df_result.join(df_shops, on=\"roast_level\")\n",
        "transformed_df = transformed_df.select(col(\"age\"), col(\"roast_level\"), col(\"recommended_shop\"))\n",
        "transformed_df.show()\n",
        "\n",
        "# OPTIONAL - CAN ALSO BE DONE WITH SQL\n",
        "sql_df_result.createOrReplaceTempView(\"AgeRoast_table\")\n",
        "df_shops.createOrReplaceTempView(\"Shops_table\")\n",
        "sql_query = \"\"\"\n",
        "SELECT AgeRoast_table.age, AgeRoast_table.roast_level, Shops_table.recommended_shop\n",
        "FROM AgeRoast_table\n",
        "JOIN Shops_table\n",
        "ON AgeRoast_table.roast_level = Shops_table.roast_level\n",
        "\"\"\"\n",
        "transformed_df = spark.sql(sql_query)\n",
        "transformed_df.show()"
      ],
      "metadata": {
        "id": "HK_877dSApfV"
      },
      "execution_count": null,
      "outputs": []
    },
    {
      "cell_type": "code",
      "source": [
        "# load new dataset into new datafile\n",
        "transformed_df = transformed_df.toPandas()\n",
        "transformed_df.to_csv(\"recommended_coffee_shops.csv\")"
      ],
      "metadata": {
        "id": "8UD7VwLQApio"
      },
      "execution_count": null,
      "outputs": []
    },
    {
      "cell_type": "code",
      "source": [
        "# end spark session\n",
        "spark.stop()"
      ],
      "metadata": {
        "id": "TvbuNmpPZ70T"
      },
      "execution_count": null,
      "outputs": []
    }
  ]
}